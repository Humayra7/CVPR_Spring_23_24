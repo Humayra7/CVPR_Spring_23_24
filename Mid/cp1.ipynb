{
 "cells": [
  {
   "cell_type": "code",
   "execution_count": 26,
   "id": "3807ebc7",
   "metadata": {},
   "outputs": [
    {
     "name": "stdout",
     "output_type": "stream",
     "text": [
      "[1, 2, 3, 4, 5, 6, 7, 8, 9, 10]\n"
     ]
    }
   ],
   "source": [
    "#list operations \n",
    "int_list = list(range(1, 11))  #Created a list of integers from 1 to 10\n",
    "print(int_list)                #printed the list "
   ]
  },
  {
   "cell_type": "code",
   "execution_count": 28,
   "id": "18e42a20",
   "metadata": {},
   "outputs": [
    {
     "name": "stdout",
     "output_type": "stream",
     "text": [
      "[1, 4, 9, 16, 25, 36, 49, 64, 81, 100]\n"
     ]
    }
   ],
   "source": [
    "#Appended the square of each number to the list\n",
    "square_list = []\n",
    "for x in int_list:\n",
    "    square_list.append(x ** 2)\n",
    "print(square_list)"
   ]
  },
  {
   "cell_type": "code",
   "execution_count": 29,
   "id": "a11b46f8",
   "metadata": {},
   "outputs": [
    {
     "name": "stdout",
     "output_type": "stream",
     "text": [
      "sum of squared elements:385\n"
     ]
    }
   ],
   "source": [
    "total = sum(square_list)\n",
    "print(f\"sum of squared elements:{total}\")  #printed the sum of all elements in the list"
   ]
  },
  {
   "cell_type": "code",
   "execution_count": 30,
   "id": "e75a498b",
   "metadata": {},
   "outputs": [],
   "source": [
    "#Tuple operations\n",
    "even = (2,4,6,8,10)  #Created a tuple with first five even numbers"
   ]
  },
  {
   "cell_type": "code",
   "execution_count": 31,
   "id": "76bcdb8a",
   "metadata": {},
   "outputs": [
    {
     "name": "stdout",
     "output_type": "stream",
     "text": [
      "Product of even elements: 3840\n"
     ]
    }
   ],
   "source": [
    "prod = 1\n",
    "for num in even:\n",
    "    prod *= num\n",
    "print(f\"Product of even elements: {prod}\")  #printed the product of all elements in the tuple\n"
   ]
  },
  {
   "cell_type": "code",
   "execution_count": 32,
   "id": "e8c4e66e",
   "metadata": {},
   "outputs": [],
   "source": [
    "#Set operations \n",
    "#Created two sets of odd numbers between 1 to 10\n",
    "\n",
    "set1 = {1, 3, 5, 7, 9}\n",
    "set2 = {3, 5, 7}\n"
   ]
  },
  {
   "cell_type": "code",
   "execution_count": 33,
   "id": "8e16bbab",
   "metadata": {},
   "outputs": [
    {
     "name": "stdout",
     "output_type": "stream",
     "text": [
      "Union of odd sets: {1, 3, 5, 7, 9}\n"
     ]
    }
   ],
   "source": [
    "#printed the union of the two sets\n",
    "\n",
    "union = set1 | set2\n",
    "print(f\"Union of odd sets: {union}\")"
   ]
  },
  {
   "cell_type": "code",
   "execution_count": 34,
   "id": "dbb2c285",
   "metadata": {},
   "outputs": [
    {
     "name": "stdout",
     "output_type": "stream",
     "text": [
      "Intersection of odd sets: {3, 5, 7}\n"
     ]
    }
   ],
   "source": [
    "#printed the intersection of the two sets\n",
    "\n",
    "intersection = set1 & set2\n",
    "print(f\"Intersection of odd sets: {intersection}\")"
   ]
  },
  {
   "cell_type": "code",
   "execution_count": 35,
   "id": "cb91d16f",
   "metadata": {},
   "outputs": [
    {
     "name": "stdout",
     "output_type": "stream",
     "text": [
      "Alphabet dictionary:\n",
      "{'a': 97, 'b': 98, 'c': 99, 'd': 100, 'e': 101}\n"
     ]
    }
   ],
   "source": [
    "#Dictionary operations\n",
    "#Created a dictionary with lowercase alphabets as keys and their ASCII values as values\n",
    "\n",
    "import string\n",
    "alph_dict = {char: ord(char) for char in string.ascii_lowercase[:5]}\n",
    "print(\"Alphabet dictionary:\")\n",
    "print(alph_dict)"
   ]
  },
  {
   "cell_type": "code",
   "execution_count": 36,
   "id": "47ca0a03",
   "metadata": {},
   "outputs": [],
   "source": [
    "#Functional programming \n",
    "#Defined a function square(x) that returns the square of x\n",
    "\n",
    "def square(x):\n",
    "    return x ** 2"
   ]
  },
  {
   "cell_type": "code",
   "execution_count": 37,
   "id": "69e5e107",
   "metadata": {},
   "outputs": [
    {
     "name": "stdout",
     "output_type": "stream",
     "text": [
      "Squared elements: [1, 4, 9, 16, 25, 36, 49, 64, 81, 100]\n"
     ]
    }
   ],
   "source": [
    "#Used the map function to square each element in the list of integers from 1 to 10\n",
    "\n",
    "result = list(map(square, integer_list))\n",
    "print(f\"Squared elements: {result}\")"
   ]
  },
  {
   "cell_type": "code",
   "execution_count": null,
   "id": "dc829546",
   "metadata": {},
   "outputs": [],
   "source": []
  }
 ],
 "metadata": {
  "kernelspec": {
   "display_name": "Python 3 (ipykernel)",
   "language": "python",
   "name": "python3"
  },
  "language_info": {
   "codemirror_mode": {
    "name": "ipython",
    "version": 3
   },
   "file_extension": ".py",
   "mimetype": "text/x-python",
   "name": "python",
   "nbconvert_exporter": "python",
   "pygments_lexer": "ipython3",
   "version": "3.11.5"
  }
 },
 "nbformat": 4,
 "nbformat_minor": 5
}
